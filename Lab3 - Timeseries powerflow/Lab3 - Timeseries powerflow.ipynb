{
 "cells": [
  {
   "cell_type": "markdown",
   "metadata": {},
   "source": [
    "#                                          Timeseries Powerflow"
   ]
  },
  {
   "cell_type": "markdown",
   "metadata": {},
   "source": [
    "The time series module is designed for the simulation of time based operations and is linked to the control module. Within a time series simulation controllers are used to update values of different elements in each time step in a loop. Refer to time series overview for details and to example for an easy example."
   ]
  },
  {
   "cell_type": "markdown",
   "metadata": {},
   "source": [
    "In pandapower, the timeseries module have the following steps.\n",
    "\n",
    "1. Load or create your pandapower network\n",
    "2. Create the dataframe containing the timeseries profile\n",
    "3. Create the controllers to update the values of the variables you want (Normally P and Q)\n",
    "4. Define which variables do you want to have as an output\n",
    "5. Run the main timeseries function and plot results"
   ]
  },
  {
   "cell_type": "markdown",
   "metadata": {},
   "source": [
    "First, lets import all the functions we need:"
   ]
  },
  {
   "cell_type": "code",
   "execution_count": null,
   "metadata": {},
   "outputs": [],
   "source": [
    "import os\n",
    "import numpy as np\n",
    "import pandas as pd\n",
    "import tempfile\n",
    "import random\n",
    "import pandapower as pp\n",
    "import plotly.express as px\n",
    "from pandapower.timeseries import DFData\n",
    "from pandapower.timeseries import OutputWriter\n",
    "from pandapower.timeseries.run_time_series import run_timeseries\n",
    "from pandapower.control import ConstControl"
   ]
  },
  {
   "cell_type": "markdown",
   "metadata": {},
   "source": [
    "## Step 1 - Load your pandapower network"
   ]
  },
  {
   "cell_type": "code",
   "execution_count": null,
   "metadata": {},
   "outputs": [],
   "source": [
    "# You can use to_excel and from_excel functions to export and import pandapower networks as excel sheets\n",
    "\n",
    "net = ?\n",
    "\n",
    "print(net)"
   ]
  },
  {
   "cell_type": "markdown",
   "metadata": {},
   "source": [
    "## Step 2 - Creating the datasource profiles"
   ]
  },
  {
   "cell_type": "markdown",
   "metadata": {},
   "source": [
    "As a start, we are going to use the same profiles of the Exercise 2:"
   ]
  },
  {
   "cell_type": "markdown",
   "metadata": {},
   "source": [
    "<img style=\"float: center;\" src=\"Figures/profiles.png\" width=\"80%\">                               "
   ]
  },
  {
   "cell_type": "code",
   "execution_count": null,
   "metadata": {},
   "outputs": [],
   "source": [
    "profiles = pd.DataFrame(index = [1,2,3,4,5,6], columns = ['load1_p', 'gen1_p'])\n",
    "\n",
    "profiles['load1_p'] = [0.66, 0.95, 0.82, 0.94, 0.99, 0.68]\n",
    "\n",
    "profiles['gen1_p'] = [0.15, 0.65, 0.94, 0.92, 0.62, 0.21]\n",
    "\n",
    "print(profiles)"
   ]
  },
  {
   "cell_type": "markdown",
   "metadata": {},
   "source": [
    "Remember that the controllers set the controlled variables to the exact value that is given by the datasource. Therefore we must provide the profiles in the units used by pandapower, power must be given in MW and MVAR, voltages in p.u. and currents in kA."
   ]
  },
  {
   "cell_type": "code",
   "execution_count": null,
   "metadata": {},
   "outputs": [],
   "source": [
    "# We have to multiply the p.u. values to the rated power of the load or generator we are controlling\n",
    "\n",
    "profiles['load1_p'] = profiles['load1_p']*net.load.p_mw[0]\n",
    "\n",
    "profiles['gen1_p'] = profiles['gen1_p']*net.gen.p_mw[0]\n",
    "\n",
    "print(profiles)"
   ]
  },
  {
   "cell_type": "markdown",
   "metadata": {},
   "source": [
    "Now we can create our pandapower datasource using our dataframe"
   ]
  },
  {
   "cell_type": "code",
   "execution_count": null,
   "metadata": {},
   "outputs": [],
   "source": [
    "ds = DFData(profiles)"
   ]
  },
  {
   "cell_type": "markdown",
   "metadata": {},
   "source": [
    "## Step 3 - Creating the controllers"
   ]
  },
  {
   "cell_type": "markdown",
   "metadata": {},
   "source": [
    "### To create a controller we need the following inputs:\n",
    "\n",
    "**element**: which type of pandapower element we are controlling as a string (Ex: 'load', 'sgen', 'line').\n",
    "\n",
    "**variable**: what aspect of this element we want to control also as string (Ex: 'p_mw', 'q_mvar', 'vm_pu').\n",
    "\n",
    "**element_index**: specify what is the index of the element we are controlling (integer).\n",
    "\n",
    "**data_source**: the datasource module containing the dataframe with profile data.\n",
    "\n",
    "**profile_name**: what column of the profiles dataframe do you want to assign to this controller. To make it easier, usually we name the profiles with the index of the element we want to control (Ex: 'load1_p', 'sgen7_q').\n"
   ]
  },
  {
   "cell_type": "code",
   "execution_count": null,
   "metadata": {},
   "outputs": [],
   "source": [
    "# We need to define the element, the variable and also the index of what we want to control.\n",
    "\n",
    "ConstControl(net, element='load', variable='p_mw', element_index=[0], data_source=ds, profile_name=[\"load1_p\"])\n",
    "\n",
    "ConstControl(net, element='gen', variable='p_mw', element_index=[0], data_source=ds, profile_name=[\"gen1_p\"])"
   ]
  },
  {
   "cell_type": "markdown",
   "metadata": {},
   "source": [
    "# Step 4 - Selecting Output Variables"
   ]
  },
  {
   "cell_type": "markdown",
   "metadata": {},
   "source": [
    "To export the results of the timeseries powerflow pandapower uses a module called \"OutputWriter\". "
   ]
  },
  {
   "cell_type": "code",
   "execution_count": null,
   "metadata": {},
   "outputs": [],
   "source": [
    "os.getcwd()"
   ]
  },
  {
   "cell_type": "code",
   "execution_count": null,
   "metadata": {},
   "outputs": [],
   "source": [
    "time_steps = range(1, profiles.shape[0]+1)\n",
    "output_dir = os.getcwd() + '/results'\n",
    "\n",
    "ow = OutputWriter(net, time_steps, output_path=output_dir, output_file_type=\".xlsx\", log_variables=list())\n",
    "\n",
    "# these variables are saved to the harddisk after / during the time series loop\n",
    "\n",
    "ow.log_variable('res_load', 'p_mw')\n",
    "ow.log_variable('res_gen', 'p_mw')\n",
    "ow.log_variable('res_bus', 'vm_pu')\n",
    "ow.log_variable('res_line', 'loading_percent')\n",
    "ow.log_variable('res_line', 'i_ka')\n"
   ]
  },
  {
   "cell_type": "markdown",
   "metadata": {},
   "source": [
    "# Step 5 - Run Timeseries Powerflow"
   ]
  },
  {
   "cell_type": "code",
   "execution_count": null,
   "metadata": {},
   "outputs": [],
   "source": [
    "run_timeseries(net, time_steps, run=pp.runpp)"
   ]
  },
  {
   "cell_type": "markdown",
   "metadata": {},
   "source": [
    "You can verify in your jupyter notebook folder that the results have been exported, lets read the dataframes."
   ]
  },
  {
   "cell_type": "code",
   "execution_count": null,
   "metadata": {},
   "outputs": [],
   "source": [
    "print('######### Results for voltage in p.u. ########')\n",
    "vm_pu_file = output_dir + '/res_bus/vm_pu.xlsx'\n",
    "vm_pu = pd.read_excel(vm_pu_file, index_col=0)\n",
    "print(vm_pu)\n",
    "\n",
    "print('#######  Results for line loading in % ########')\n",
    "ll_file = output_dir + '/res_line/loading_percent.xlsx'\n",
    "line_loading = pd.read_excel(ll_file, index_col=0)\n",
    "print(line_loading)\n",
    "\n",
    "print('#######  Results for load power in MW ########')\n",
    "load_file = output_dir + '/res_load/p_mw.xlsx'\n",
    "load = pd.read_excel(load_file, index_col=0)\n",
    "print(load)\n",
    "\n",
    "print('#######  Results for generation power in MW ########')\n",
    "gen_file = output_dir + '/res_gen/p_mw.xlsx'\n",
    "gen = pd.read_excel(gen_file, index_col=0)\n",
    "print(gen)"
   ]
  },
  {
   "cell_type": "markdown",
   "metadata": {},
   "source": [
    "# Step 6 - Plotting"
   ]
  },
  {
   "cell_type": "markdown",
   "metadata": {},
   "source": [
    "We can use the plotly express library to easily plot the timeseries powerflow results"
   ]
  },
  {
   "cell_type": "code",
   "execution_count": null,
   "metadata": {},
   "outputs": [],
   "source": [
    "# plotting voltage and line results\n",
    "\n",
    "fig = px.line(vm_pu, y=vm_pu.columns, labels={\"value\": \"count\", \"variable\": \"Bus ID\"})\n",
    "fig.update_xaxes(title='Hour', fixedrange=True)\n",
    "fig.update_yaxes(title='Voltage [p.u.]')\n",
    "fig.update_traces(mode=\"markers+lines\", hovertemplate='Hour: %{x} <br>Voltage: %{y}')\n",
    "fig.show()\n",
    "\n",
    "fig = px.line(line_loading, y=line_loading.columns, labels={\"value\": \"count\", \"variable\": \"Line ID\"})\n",
    "fig.update_xaxes(title='Hour', fixedrange=True)\n",
    "fig.update_yaxes(title='Loading [%]')\n",
    "fig.update_traces(mode=\"markers+lines\", hovertemplate='Hour: %{x} <br>Loading: %{y}')\n",
    "fig.show()"
   ]
  },
  {
   "cell_type": "code",
   "execution_count": null,
   "metadata": {},
   "outputs": [],
   "source": [
    "# plotting load and generation results\n",
    "\n",
    "fig = px.line(load*1000, y=load.columns, labels={\"value\": \"count\", \"variable\": \"Load ID\"})\n",
    "fig.update_xaxes(title='Hour', fixedrange=True)\n",
    "fig.update_yaxes(title='Power [kW]')\n",
    "fig.update_traces(mode=\"markers+lines\", hovertemplate='Hour: %{x} <br>Power: %{y}')\n",
    "fig.show()\n",
    "\n",
    "\n",
    "fig = px.line(gen*1000, y=gen.columns, labels={\"value\": \"count\", \"variable\": \"Gen ID\"})\n",
    "fig.update_xaxes(title='Hour', fixedrange=True)\n",
    "fig.update_yaxes(title='Power [kW]')\n",
    "fig.update_traces(mode=\"markers+lines\", hovertemplate='Hour: %{x} <br>Power: %{y}')\n",
    "fig.show()"
   ]
  },
  {
   "cell_type": "markdown",
   "metadata": {},
   "source": [
    "## Try it yourself! What if we have to create a different profile for each load and generator?"
   ]
  },
  {
   "cell_type": "markdown",
   "metadata": {},
   "source": [
    "In your jupyter notebook folder you will find a file named '24h_profiles.xslx'. This is an excel table with different profiles for a 24h period."
   ]
  },
  {
   "cell_type": "code",
   "execution_count": null,
   "metadata": {},
   "outputs": [],
   "source": [
    "net = ?\n",
    "profiles_df = pd.read_excel('24h_profiles.xlsx', index_col=0)\n",
    "print(profiles_df)"
   ]
  },
  {
   "cell_type": "markdown",
   "metadata": {},
   "source": [
    "In this table, there are two load profiles and 1 generator profile. Apply these to the elements in the network."
   ]
  },
  {
   "cell_type": "markdown",
   "metadata": {},
   "source": [
    "For this, we need to create a loop to iterate over the loads dataframe"
   ]
  },
  {
   "cell_type": "code",
   "execution_count": null,
   "metadata": {},
   "outputs": [],
   "source": [
    "# lets duplicate the two load profiles since we have 4 loads\n",
    "profiles_df['load2_p'] = profiles_df['load0_p']\n",
    "profiles_df['load3_p'] = profiles_df['load1_p']\n",
    "\n",
    "# iterate over the elements to create a specific profile for each load\n",
    "for loads in range(4):\n",
    "    profiles_df.loc[:, 'load'+str(loads)+'_p'] = ?\n",
    "\n",
    "# iterate over the elements to create a specific profile for each generator\n",
    "for gen in range(1):\n",
    "    ?"
   ]
  },
  {
   "cell_type": "code",
   "execution_count": null,
   "metadata": {},
   "outputs": [],
   "source": [
    "profiles_df"
   ]
  },
  {
   "cell_type": "markdown",
   "metadata": {},
   "source": [
    "Lets now create a new datasource with the 24h profiles"
   ]
  },
  {
   "cell_type": "code",
   "execution_count": null,
   "metadata": {},
   "outputs": [],
   "source": [
    "ds_new = ?"
   ]
  },
  {
   "cell_type": "markdown",
   "metadata": {},
   "source": [
    "Next step is to create a different controller for each element in the network. Similarly we can use the for loop for that."
   ]
  },
  {
   "cell_type": "code",
   "execution_count": null,
   "metadata": {},
   "outputs": [],
   "source": [
    "net.gen"
   ]
  },
  {
   "cell_type": "code",
   "execution_count": null,
   "metadata": {},
   "outputs": [],
   "source": [
    "for i in net.gen.index:\n",
    "    \n",
    "    ConstControl(net, element='gen', variable='p_mw', element_index=?,\n",
    "                 data_source=?, profile_name=?, scale_factor=1)\n",
    "\n",
    "    \n",
    "for j in net.load.index:\n",
    "    \n",
    "    ?"
   ]
  },
  {
   "cell_type": "markdown",
   "metadata": {},
   "source": [
    "Finally, update the time_steps variable and setup the OutputWriter."
   ]
  },
  {
   "cell_type": "code",
   "execution_count": null,
   "metadata": {},
   "outputs": [],
   "source": [
    "time_steps = range(0, profiles_df.shape[0])\n",
    "output_dir = os.getcwd() + '/results'\n",
    "\n",
    "ow = OutputWriter(net, time_steps, output_path=output_dir, output_file_type=\".xlsx\", log_variables=list())\n",
    "\n",
    "ow.log_variable('res_load', 'p_mw')\n",
    "ow.log_variable('res_gen', 'p_mw')\n",
    "ow.log_variable('res_bus', 'vm_pu')\n",
    "ow.log_variable('res_line', 'loading_percent')\n",
    "ow.log_variable('res_line', 'i_ka')"
   ]
  },
  {
   "cell_type": "markdown",
   "metadata": {},
   "source": [
    "Now run the timeseries powerflow and check the results!"
   ]
  },
  {
   "cell_type": "code",
   "execution_count": null,
   "metadata": {},
   "outputs": [],
   "source": [
    "?"
   ]
  },
  {
   "cell_type": "markdown",
   "metadata": {},
   "source": [
    "Use the previous plotting script to check the results of the timeseries powerflow."
   ]
  },
  {
   "cell_type": "markdown",
   "metadata": {},
   "source": [
    "# Exercise 5 and Report Information"
   ]
  },
  {
   "cell_type": "markdown",
   "metadata": {},
   "source": [
    "Using QGIS, calculate the distance between the isolated points and the actual transmission grid and create new lines and generators to solve the grid congestions (all lines must have less than 80% of loading) and voltage deviations (all buses must have a voltage between 0.9 and 1.1 p.u.).\n",
    "\n",
    "You are free to choose any solution you may find useful, as long as you add at least 1 line and 1 new generator."
   ]
  },
  {
   "cell_type": "markdown",
   "metadata": {},
   "source": [
    "In your report, you must show the timesseries power flow results (res_bus and res_line tables and line plot of all of the hours as well as the map plottings of the heaviest hour) **before** and **after** your intervention. Also add a brief text explaining the changes you made in the network and why."
   ]
  },
  {
   "cell_type": "markdown",
   "metadata": {},
   "source": [
    "Grading: \n",
    "\n",
    "1. Exercises 1-3: 3 Points total (1 each)\n",
    "2. Exercise 4: 3 Points\n",
    "3. Exercise 5: 4 Points\n",
    "\n",
    "Total 10 points"
   ]
  },
  {
   "cell_type": "markdown",
   "metadata": {},
   "source": [
    "#### DEADLINE: Upload your repot in pdf format with all 5 exercies in the Atenea portal until 03.11 (Morning Group) / 24.11 (Night Group)"
   ]
  },
  {
   "cell_type": "code",
   "execution_count": null,
   "metadata": {},
   "outputs": [],
   "source": []
  }
 ],
 "metadata": {
  "kernelspec": {
   "display_name": "Python 3 (ipykernel)",
   "language": "python",
   "name": "python3"
  },
  "language_info": {
   "codemirror_mode": {
    "name": "ipython",
    "version": 3
   },
   "file_extension": ".py",
   "mimetype": "text/x-python",
   "name": "python",
   "nbconvert_exporter": "python",
   "pygments_lexer": "ipython3",
   "version": "3.8.17"
  }
 },
 "nbformat": 4,
 "nbformat_minor": 4
}
