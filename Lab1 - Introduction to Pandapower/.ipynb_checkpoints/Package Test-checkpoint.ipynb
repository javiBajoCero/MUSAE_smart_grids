{
 "cells": [
  {
   "cell_type": "code",
   "execution_count": null,
   "id": "e0c9cd56",
   "metadata": {},
   "outputs": [],
   "source": [
    "import pandapower as pp\n",
    "from pandapower.plotting.plotly.mapbox_plot import set_mapbox_token\n",
    "set_mapbox_token('pk.eyJ1IjoidmluaWNpdXNnYWQiLCJhIjoiY2xseXp6d3llMHZ6azNrczZmc3JqdzJhYyJ9.TEYsgM85dVun46w_lpOKrw')\n",
    "net = pp.from_json('test_packages.json')\n",
    "pp.runpp(net)\n",
    "pp.plotting.plotly.pf_res_plotly(net, on_map=True)"
   ]
  },
  {
   "cell_type": "code",
   "execution_count": null,
   "id": "755f7e7e",
   "metadata": {},
   "outputs": [],
   "source": []
  }
 ],
 "metadata": {
  "kernelspec": {
   "display_name": "Python 3 (ipykernel)",
   "language": "python",
   "name": "python3"
  },
  "language_info": {
   "codemirror_mode": {
    "name": "ipython",
    "version": 3
   },
   "file_extension": ".py",
   "mimetype": "text/x-python",
   "name": "python",
   "nbconvert_exporter": "python",
   "pygments_lexer": "ipython3",
   "version": "3.11.4"
  }
 },
 "nbformat": 4,
 "nbformat_minor": 5
}
