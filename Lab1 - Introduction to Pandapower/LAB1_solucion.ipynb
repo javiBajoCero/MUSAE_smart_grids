{
 "cells": [
  {
   "cell_type": "markdown",
   "metadata": {},
   "source": [
    "#                                         1.  Introduction to Python "
   ]
  },
  {
   "cell_type": "markdown",
   "metadata": {},
   "source": [
    "The Python standard library is documented at https://docs.python.org/3/library/ and include basic functions like `print`."
   ]
  },
  {
   "cell_type": "markdown",
   "metadata": {},
   "source": [
    "Specialised tools, such as pandapower, are usually made available in other libraries (modules).\n",
    "For example NumPy (http://www.numpy.org/) functions for numerical computation, very similar to what we can do in MATLAB."
   ]
  },
  {
   "cell_type": "markdown",
   "metadata": {},
   "source": [
    "To use a function from a module we need to make it available in our program , what is called as 'importing'. "
   ]
  },
  {
   "cell_type": "code",
   "execution_count": 1,
   "metadata": {},
   "outputs": [],
   "source": [
    "import pandas as pd\n",
    "import pandapower as pp\n",
    "import numpy as np\n",
    "import copy"
   ]
  },
  {
   "cell_type": "markdown",
   "metadata": {},
   "source": [
    "## 1.1 Variable types"
   ]
  },
  {
   "cell_type": "code",
   "execution_count": 2,
   "metadata": {},
   "outputs": [
    {
     "name": "stdout",
     "output_type": "stream",
     "text": [
      "<class 'bool'>\n",
      "<class 'str'>\n",
      "<class 'int'>\n",
      "<class 'float'>\n"
     ]
    }
   ],
   "source": [
    "x = True\n",
    "print(type(x))\n",
    "\n",
    "name = 'Vinicius'\n",
    "print(type(name))\n",
    "\n",
    "age = 30\n",
    "print(type(age))\n",
    "\n",
    "money = 5.5\n",
    "print(type(money))"
   ]
  },
  {
   "cell_type": "markdown",
   "metadata": {},
   "source": [
    "## 1.2 Lists"
   ]
  },
  {
   "cell_type": "markdown",
   "metadata": {},
   "source": [
    "`list`. Similar to `array` in Matlab but can contain different types of variables:"
   ]
  },
  {
   "cell_type": "code",
   "execution_count": 3,
   "metadata": {},
   "outputs": [
    {
     "data": {
      "text/plain": [
       "[]"
      ]
     },
     "execution_count": 3,
     "metadata": {},
     "output_type": "execute_result"
    }
   ],
   "source": [
    "empty_list = [] #create an empty list\n",
    "empty_list"
   ]
  },
  {
   "cell_type": "code",
   "execution_count": 4,
   "metadata": {},
   "outputs": [
    {
     "data": {
      "text/plain": [
       "['Vinicius', 30, 5.5]"
      ]
     },
     "execution_count": 4,
     "metadata": {},
     "output_type": "execute_result"
    }
   ],
   "source": [
    "list0 = ['Vinicius', 30, 5.5]\n",
    "list0"
   ]
  },
  {
   "cell_type": "code",
   "execution_count": 5,
   "metadata": {},
   "outputs": [
    {
     "data": {
      "text/plain": [
       "['Vinicius', 30, 5.5]"
      ]
     },
     "execution_count": 5,
     "metadata": {},
     "output_type": "execute_result"
    }
   ],
   "source": [
    "list1 = [name, age, money]\n",
    "list1"
   ]
  },
  {
   "cell_type": "markdown",
   "metadata": {},
   "source": [
    "Let's iterate over a `list`:"
   ]
  },
  {
   "cell_type": "code",
   "execution_count": 6,
   "metadata": {},
   "outputs": [
    {
     "name": "stdout",
     "output_type": "stream",
     "text": [
      "Vinicius\n",
      "30\n",
      "5.5\n"
     ]
    }
   ],
   "source": [
    "for element in list1:\n",
    "    print(element)"
   ]
  },
  {
   "cell_type": "markdown",
   "metadata": {},
   "source": [
    "We can print the elements in the list or any variables using the command `print` and `.format` or simply summing strings:"
   ]
  },
  {
   "cell_type": "code",
   "execution_count": 7,
   "metadata": {},
   "outputs": [
    {
     "name": "stdout",
     "output_type": "stream",
     "text": [
      "My name is Vinicius, I have 30 years old and 5.5 euros.\n",
      "My name is Vinicius, I have 30 years old and 5.5 euros.\n",
      "My name is Vinicius, i have 30 years old and 5.5 euros\n"
     ]
    }
   ],
   "source": [
    "print('My name is {}, I have {} years old and {} euros.'.format(list1[0], list1[1], list1[2]))\n",
    "\n",
    "#or\n",
    "\n",
    "print('My name is {}, I have {} years old and {} euros.'.format(name, age, money))\n",
    "\n",
    "#or\n",
    "\n",
    "print('My name is '+ name + ', i have ' + str(age) + ' years old and ' + str(money) + ' euros')"
   ]
  },
  {
   "cell_type": "markdown",
   "metadata": {},
   "source": [
    "## 1.3 Numpy arrays"
   ]
  },
  {
   "cell_type": "markdown",
   "metadata": {},
   "source": [
    "We can create arrays using the `numpy` library, commonly used to operate multi-dimensional arrays and matrices."
   ]
  },
  {
   "cell_type": "code",
   "execution_count": 8,
   "metadata": {},
   "outputs": [],
   "source": [
    "array0 = np.array([(50,30)])\n",
    "\n",
    "array1 = np.array([50,30])\n",
    "\n",
    "array2 = np.array([(50,40),(30,40)])\n",
    "\n",
    "array3 = np.array([(50,40,20),(30,40,10), (12,56,10)])"
   ]
  },
  {
   "cell_type": "markdown",
   "metadata": {},
   "source": [
    "Lets print the arrays. Whats the difference between array0 and array1?"
   ]
  },
  {
   "cell_type": "code",
   "execution_count": 9,
   "metadata": {},
   "outputs": [
    {
     "name": "stdout",
     "output_type": "stream",
     "text": [
      "[30 40 10]\n"
     ]
    }
   ],
   "source": [
    "print(array3[(1)])"
   ]
  },
  {
   "cell_type": "markdown",
   "metadata": {},
   "source": [
    "## 1.4 Pandas and Dataframes"
   ]
  },
  {
   "cell_type": "markdown",
   "metadata": {},
   "source": [
    "Pandas is the most popular software library written for the Python programming language for data manipulation and analysis.\n",
    "\n",
    "You can learn more in the documentation: https://pandas.pydata.org/docs/\n",
    "\n",
    "First, lets import the library:"
   ]
  },
  {
   "cell_type": "code",
   "execution_count": 10,
   "metadata": {},
   "outputs": [],
   "source": [
    "import pandas as pd"
   ]
  },
  {
   "cell_type": "markdown",
   "metadata": {},
   "source": [
    "`DataFrames` are like a `tables` in Matlab. "
   ]
  },
  {
   "cell_type": "markdown",
   "metadata": {},
   "source": [
    "To create a `DataFrame` we can pass a list of rows and columns to the function inside pandas library `pd.DataFrame()`, and pass a `np.array` to fill its values"
   ]
  },
  {
   "cell_type": "code",
   "execution_count": 11,
   "metadata": {},
   "outputs": [
    {
     "data": {
      "text/html": [
       "<div>\n",
       "<style scoped>\n",
       "    .dataframe tbody tr th:only-of-type {\n",
       "        vertical-align: middle;\n",
       "    }\n",
       "\n",
       "    .dataframe tbody tr th {\n",
       "        vertical-align: top;\n",
       "    }\n",
       "\n",
       "    .dataframe thead th {\n",
       "        text-align: right;\n",
       "    }\n",
       "</style>\n",
       "<table border=\"1\" class=\"dataframe\">\n",
       "  <thead>\n",
       "    <tr style=\"text-align: right;\">\n",
       "      <th></th>\n",
       "      <th>Product_A</th>\n",
       "      <th>Product_B</th>\n",
       "    </tr>\n",
       "  </thead>\n",
       "  <tbody>\n",
       "    <tr>\n",
       "      <th>Seller_1</th>\n",
       "      <td>50</td>\n",
       "      <td>131</td>\n",
       "    </tr>\n",
       "    <tr>\n",
       "      <th>Seller_2</th>\n",
       "      <td>47</td>\n",
       "      <td>120</td>\n",
       "    </tr>\n",
       "  </tbody>\n",
       "</table>\n",
       "</div>"
      ],
      "text/plain": [
       "          Product_A  Product_B\n",
       "Seller_1         50        131\n",
       "Seller_2         47        120"
      ]
     },
     "execution_count": 11,
     "metadata": {},
     "output_type": "execute_result"
    }
   ],
   "source": [
    "cols = ['Product_A', 'Product_B'] # each column is an attribute\n",
    "rows = ['Seller_1', 'Seller_2'] # each row is an index\n",
    "array = np.array([(50,131),(47,120)])\n",
    "df = pd.DataFrame(data=array, index=rows, columns=cols)\n",
    "df"
   ]
  },
  {
   "cell_type": "markdown",
   "metadata": {},
   "source": [
    "### 1.4.1 Accessing the data in pandas"
   ]
  },
  {
   "cell_type": "markdown",
   "metadata": {},
   "source": [
    "There are several ways to access data of a DataFrame. For more info: https://pandas.pydata.org/pandas-docs/stable/user_guide/indexing.html"
   ]
  },
  {
   "cell_type": "code",
   "execution_count": 12,
   "metadata": {},
   "outputs": [
    {
     "data": {
      "text/plain": [
       "Seller_1    50\n",
       "Seller_2    47\n",
       "Name: Product_A, dtype: int32"
      ]
     },
     "execution_count": 12,
     "metadata": {},
     "output_type": "execute_result"
    }
   ],
   "source": [
    "df.Product_A #attribute"
   ]
  },
  {
   "cell_type": "markdown",
   "metadata": {},
   "source": [
    "Alternatively, we can use `iloc` (Index-based selection) to access data in the format `.iloc[row, column]`\n",
    "\n",
    "This is how we can retrieve all values of the first column:"
   ]
  },
  {
   "cell_type": "code",
   "execution_count": 13,
   "metadata": {},
   "outputs": [
    {
     "data": {
      "text/plain": [
       "Seller_1    50\n",
       "Seller_2    47\n",
       "Name: Product_A, dtype: int32"
      ]
     },
     "execution_count": 13,
     "metadata": {},
     "output_type": "execute_result"
    }
   ],
   "source": [
    "df.iloc[[0,1],0] # iloc ALWAYS starts with 0!\n",
    "\n",
    "# or\n",
    "\n",
    "df.iloc[:,0] # the : means all values"
   ]
  },
  {
   "cell_type": "markdown",
   "metadata": {},
   "source": [
    "Finally, we can also use `loc` (Label-based selection): in this case we have to insert the LABEL of the row/column to access the data:"
   ]
  },
  {
   "cell_type": "code",
   "execution_count": 14,
   "metadata": {},
   "outputs": [
    {
     "data": {
      "text/plain": [
       "Seller_1    50\n",
       "Seller_2    47\n",
       "Name: Product_A, dtype: int32"
      ]
     },
     "execution_count": 14,
     "metadata": {},
     "output_type": "execute_result"
    }
   ],
   "source": [
    "df.loc[['Seller_1', 'Seller_2'], 'Product_A']\n",
    "\n",
    "# or\n",
    "\n",
    "df.loc[:,'Product_A']"
   ]
  },
  {
   "cell_type": "markdown",
   "metadata": {},
   "source": [
    "### 1.4.2 Try it yourself! Get the row of the DataFrame for Seller_2 using `.iloc` and `.loc`"
   ]
  },
  {
   "cell_type": "code",
   "execution_count": 15,
   "metadata": {},
   "outputs": [
    {
     "data": {
      "text/plain": [
       "Product_A     47\n",
       "Product_B    120\n",
       "Name: Seller_2, dtype: int32"
      ]
     },
     "execution_count": 15,
     "metadata": {},
     "output_type": "execute_result"
    }
   ],
   "source": [
    "df.iloc[1,:]\n",
    "df.loc['Seller_2',:]"
   ]
  },
  {
   "cell_type": "markdown",
   "metadata": {},
   "source": [
    "Let's add a new seller (row) to our `DataFrame`. Careful with the parenthesis in the array we are creating!"
   ]
  },
  {
   "cell_type": "code",
   "execution_count": 16,
   "metadata": {},
   "outputs": [
    {
     "data": {
      "text/html": [
       "<div>\n",
       "<style scoped>\n",
       "    .dataframe tbody tr th:only-of-type {\n",
       "        vertical-align: middle;\n",
       "    }\n",
       "\n",
       "    .dataframe tbody tr th {\n",
       "        vertical-align: top;\n",
       "    }\n",
       "\n",
       "    .dataframe thead th {\n",
       "        text-align: right;\n",
       "    }\n",
       "</style>\n",
       "<table border=\"1\" class=\"dataframe\">\n",
       "  <thead>\n",
       "    <tr style=\"text-align: right;\">\n",
       "      <th></th>\n",
       "      <th>Product_A</th>\n",
       "      <th>Product_B</th>\n",
       "    </tr>\n",
       "  </thead>\n",
       "  <tbody>\n",
       "    <tr>\n",
       "      <th>OJETE</th>\n",
       "      <td>50</td>\n",
       "      <td>30</td>\n",
       "    </tr>\n",
       "  </tbody>\n",
       "</table>\n",
       "</div>"
      ],
      "text/plain": [
       "       Product_A  Product_B\n",
       "OJETE         50         30"
      ]
     },
     "execution_count": 16,
     "metadata": {},
     "output_type": "execute_result"
    }
   ],
   "source": [
    "new_seller = pd.DataFrame(data=np.array([(50,30)]), index=['OJETE'], columns=df.columns)\n",
    "new_seller"
   ]
  },
  {
   "cell_type": "markdown",
   "metadata": {},
   "source": [
    "We can use the `append` method to adds rows to a `DataFrame`"
   ]
  },
  {
   "cell_type": "code",
   "execution_count": 17,
   "metadata": {},
   "outputs": [],
   "source": [
    "df = pd.concat([df, new_seller])\n",
    "df.drop(['OJETE'],inplace=True)\n"
   ]
  },
  {
   "cell_type": "markdown",
   "metadata": {},
   "source": [
    "Now lets add a new product (column) to our `DataFrame`, its way easier:"
   ]
  },
  {
   "cell_type": "code",
   "execution_count": 18,
   "metadata": {},
   "outputs": [
    {
     "ename": "ValueError",
     "evalue": "Length of values (3) does not match length of index (2)",
     "output_type": "error",
     "traceback": [
      "\u001b[1;31m---------------------------------------------------------------------------\u001b[0m",
      "\u001b[1;31mValueError\u001b[0m                                Traceback (most recent call last)",
      "Cell \u001b[1;32mIn[18], line 1\u001b[0m\n\u001b[1;32m----> 1\u001b[0m df[\u001b[38;5;124m'\u001b[39m\u001b[38;5;124mProduct_C\u001b[39m\u001b[38;5;124m'\u001b[39m] \u001b[38;5;241m=\u001b[39m [\u001b[38;5;241m30\u001b[39m, \u001b[38;5;241m40\u001b[39m, \u001b[38;5;241m50\u001b[39m]\n\u001b[0;32m      2\u001b[0m df\n",
      "File \u001b[1;32m~\\anaconda3\\Lib\\site-packages\\pandas\\core\\frame.py:3980\u001b[0m, in \u001b[0;36mDataFrame.__setitem__\u001b[1;34m(self, key, value)\u001b[0m\n\u001b[0;32m   3977\u001b[0m     \u001b[38;5;28mself\u001b[39m\u001b[38;5;241m.\u001b[39m_setitem_array([key], value)\n\u001b[0;32m   3978\u001b[0m \u001b[38;5;28;01melse\u001b[39;00m:\n\u001b[0;32m   3979\u001b[0m     \u001b[38;5;66;03m# set column\u001b[39;00m\n\u001b[1;32m-> 3980\u001b[0m     \u001b[38;5;28mself\u001b[39m\u001b[38;5;241m.\u001b[39m_set_item(key, value)\n",
      "File \u001b[1;32m~\\anaconda3\\Lib\\site-packages\\pandas\\core\\frame.py:4174\u001b[0m, in \u001b[0;36mDataFrame._set_item\u001b[1;34m(self, key, value)\u001b[0m\n\u001b[0;32m   4164\u001b[0m \u001b[38;5;28;01mdef\u001b[39;00m \u001b[38;5;21m_set_item\u001b[39m(\u001b[38;5;28mself\u001b[39m, key, value) \u001b[38;5;241m-\u001b[39m\u001b[38;5;241m>\u001b[39m \u001b[38;5;28;01mNone\u001b[39;00m:\n\u001b[0;32m   4165\u001b[0m \u001b[38;5;250m    \u001b[39m\u001b[38;5;124;03m\"\"\"\u001b[39;00m\n\u001b[0;32m   4166\u001b[0m \u001b[38;5;124;03m    Add series to DataFrame in specified column.\u001b[39;00m\n\u001b[0;32m   4167\u001b[0m \n\u001b[1;32m   (...)\u001b[0m\n\u001b[0;32m   4172\u001b[0m \u001b[38;5;124;03m    ensure homogeneity.\u001b[39;00m\n\u001b[0;32m   4173\u001b[0m \u001b[38;5;124;03m    \"\"\"\u001b[39;00m\n\u001b[1;32m-> 4174\u001b[0m     value \u001b[38;5;241m=\u001b[39m \u001b[38;5;28mself\u001b[39m\u001b[38;5;241m.\u001b[39m_sanitize_column(value)\n\u001b[0;32m   4176\u001b[0m     \u001b[38;5;28;01mif\u001b[39;00m (\n\u001b[0;32m   4177\u001b[0m         key \u001b[38;5;129;01min\u001b[39;00m \u001b[38;5;28mself\u001b[39m\u001b[38;5;241m.\u001b[39mcolumns\n\u001b[0;32m   4178\u001b[0m         \u001b[38;5;129;01mand\u001b[39;00m value\u001b[38;5;241m.\u001b[39mndim \u001b[38;5;241m==\u001b[39m \u001b[38;5;241m1\u001b[39m\n\u001b[0;32m   4179\u001b[0m         \u001b[38;5;129;01mand\u001b[39;00m \u001b[38;5;129;01mnot\u001b[39;00m is_extension_array_dtype(value)\n\u001b[0;32m   4180\u001b[0m     ):\n\u001b[0;32m   4181\u001b[0m         \u001b[38;5;66;03m# broadcast across multiple columns if necessary\u001b[39;00m\n\u001b[0;32m   4182\u001b[0m         \u001b[38;5;28;01mif\u001b[39;00m \u001b[38;5;129;01mnot\u001b[39;00m \u001b[38;5;28mself\u001b[39m\u001b[38;5;241m.\u001b[39mcolumns\u001b[38;5;241m.\u001b[39mis_unique \u001b[38;5;129;01mor\u001b[39;00m \u001b[38;5;28misinstance\u001b[39m(\u001b[38;5;28mself\u001b[39m\u001b[38;5;241m.\u001b[39mcolumns, MultiIndex):\n",
      "File \u001b[1;32m~\\anaconda3\\Lib\\site-packages\\pandas\\core\\frame.py:4915\u001b[0m, in \u001b[0;36mDataFrame._sanitize_column\u001b[1;34m(self, value)\u001b[0m\n\u001b[0;32m   4912\u001b[0m     \u001b[38;5;28;01mreturn\u001b[39;00m _reindex_for_setitem(Series(value), \u001b[38;5;28mself\u001b[39m\u001b[38;5;241m.\u001b[39mindex)\n\u001b[0;32m   4914\u001b[0m \u001b[38;5;28;01mif\u001b[39;00m is_list_like(value):\n\u001b[1;32m-> 4915\u001b[0m     com\u001b[38;5;241m.\u001b[39mrequire_length_match(value, \u001b[38;5;28mself\u001b[39m\u001b[38;5;241m.\u001b[39mindex)\n\u001b[0;32m   4916\u001b[0m \u001b[38;5;28;01mreturn\u001b[39;00m sanitize_array(value, \u001b[38;5;28mself\u001b[39m\u001b[38;5;241m.\u001b[39mindex, copy\u001b[38;5;241m=\u001b[39m\u001b[38;5;28;01mTrue\u001b[39;00m, allow_2d\u001b[38;5;241m=\u001b[39m\u001b[38;5;28;01mTrue\u001b[39;00m)\n",
      "File \u001b[1;32m~\\anaconda3\\Lib\\site-packages\\pandas\\core\\common.py:571\u001b[0m, in \u001b[0;36mrequire_length_match\u001b[1;34m(data, index)\u001b[0m\n\u001b[0;32m    567\u001b[0m \u001b[38;5;250m\u001b[39m\u001b[38;5;124;03m\"\"\"\u001b[39;00m\n\u001b[0;32m    568\u001b[0m \u001b[38;5;124;03mCheck the length of data matches the length of the index.\u001b[39;00m\n\u001b[0;32m    569\u001b[0m \u001b[38;5;124;03m\"\"\"\u001b[39;00m\n\u001b[0;32m    570\u001b[0m \u001b[38;5;28;01mif\u001b[39;00m \u001b[38;5;28mlen\u001b[39m(data) \u001b[38;5;241m!=\u001b[39m \u001b[38;5;28mlen\u001b[39m(index):\n\u001b[1;32m--> 571\u001b[0m     \u001b[38;5;28;01mraise\u001b[39;00m \u001b[38;5;167;01mValueError\u001b[39;00m(\n\u001b[0;32m    572\u001b[0m         \u001b[38;5;124m\"\u001b[39m\u001b[38;5;124mLength of values \u001b[39m\u001b[38;5;124m\"\u001b[39m\n\u001b[0;32m    573\u001b[0m         \u001b[38;5;124mf\u001b[39m\u001b[38;5;124m\"\u001b[39m\u001b[38;5;124m(\u001b[39m\u001b[38;5;132;01m{\u001b[39;00m\u001b[38;5;28mlen\u001b[39m(data)\u001b[38;5;132;01m}\u001b[39;00m\u001b[38;5;124m) \u001b[39m\u001b[38;5;124m\"\u001b[39m\n\u001b[0;32m    574\u001b[0m         \u001b[38;5;124m\"\u001b[39m\u001b[38;5;124mdoes not match length of index \u001b[39m\u001b[38;5;124m\"\u001b[39m\n\u001b[0;32m    575\u001b[0m         \u001b[38;5;124mf\u001b[39m\u001b[38;5;124m\"\u001b[39m\u001b[38;5;124m(\u001b[39m\u001b[38;5;132;01m{\u001b[39;00m\u001b[38;5;28mlen\u001b[39m(index)\u001b[38;5;132;01m}\u001b[39;00m\u001b[38;5;124m)\u001b[39m\u001b[38;5;124m\"\u001b[39m\n\u001b[0;32m    576\u001b[0m     )\n",
      "\u001b[1;31mValueError\u001b[0m: Length of values (3) does not match length of index (2)"
     ]
    }
   ],
   "source": [
    "df['Product_C'] = [30, 40, 50]\n",
    "df"
   ]
  },
  {
   "cell_type": "markdown",
   "metadata": {},
   "source": [
    "## 1.4.3 Data analysis"
   ]
  },
  {
   "cell_type": "markdown",
   "metadata": {},
   "source": [
    "`.loc` can also accept `booleans`: this is pretty useful when we want to access data based on particular logic conditions.\n",
    "\n",
    "For example, lets get the row of the seller that sells the Product_A for less than 50"
   ]
  },
  {
   "cell_type": "code",
   "execution_count": null,
   "metadata": {},
   "outputs": [],
   "source": [
    "df.loc[df['Product_B'] > 50]"
   ]
  },
  {
   "cell_type": "markdown",
   "metadata": {},
   "source": [
    "### 1.4.4 Try it yourself! \n",
    "\n",
    "#### Find which seller sells Product_C for 40 euros.\n",
    "\n",
    "#### Also who sells Product_C the cheapest ( tip -> you can use the method `.min()`)."
   ]
  },
  {
   "cell_type": "code",
   "execution_count": null,
   "metadata": {},
   "outputs": [],
   "source": [
    "df.loc[df['Product_C'] == 40]"
   ]
  },
  {
   "cell_type": "code",
   "execution_count": null,
   "metadata": {},
   "outputs": [],
   "source": [
    "df.loc[df['Product_C'] == df['Product_C'].max()]"
   ]
  },
  {
   "cell_type": "markdown",
   "metadata": {},
   "source": [
    "## 1.5 Creating a function\n",
    "\n",
    "This is how we declare a function:"
   ]
  },
  {
   "cell_type": "code",
   "execution_count": null,
   "metadata": {},
   "outputs": [],
   "source": [
    "# To remember: Python is sensible to indentation!!\n",
    "\n",
    "def sum_and_increment(a, b):\n",
    "    result = a + b + 1\n",
    "    return result"
   ]
  },
  {
   "cell_type": "markdown",
   "metadata": {},
   "source": [
    "What does it do? Lets call it:"
   ]
  },
  {
   "cell_type": "code",
   "execution_count": null,
   "metadata": {},
   "outputs": [],
   "source": [
    "value = sum_and_increment(3 , 4) \n",
    "print(value) "
   ]
  },
  {
   "cell_type": "markdown",
   "metadata": {},
   "source": [
    "<img style=\"float: center;\" src=\"Figures/formula.png\" width=\"50%\">"
   ]
  },
  {
   "cell_type": "code",
   "execution_count": null,
   "metadata": {},
   "outputs": [],
   "source": [
    "def get_reactive(P,PF):\n",
    "    Q = P*np.tan(np.arccos(PF))\n",
    "    return Q"
   ]
  },
  {
   "cell_type": "markdown",
   "metadata": {},
   "source": [
    "# 2. Pandapower"
   ]
  },
  {
   "cell_type": "markdown",
   "metadata": {},
   "source": [
    "Pandapower combines the data analysis library `pandas` and the power flow solver `PYPOWER` to create an easy way to model power grids and solve power flows.\n",
    "\n",
    "Please take a moment to look into the documentation: https://pandapower.readthedocs.io/en/v2.10.1/about.html"
   ]
  },
  {
   "cell_type": "markdown",
   "metadata": {},
   "source": [
    "First, we are going to create an empty grid: \n",
    "\n",
    "https://pandapower.readthedocs.io/en/v2.10.1/elements/empty_network.html"
   ]
  },
  {
   "cell_type": "code",
   "execution_count": null,
   "metadata": {},
   "outputs": [],
   "source": [
    "net = pp.create_empty_network()"
   ]
  },
  {
   "cell_type": "markdown",
   "metadata": {},
   "source": [
    "We will create the grid below:"
   ]
  },
  {
   "cell_type": "markdown",
   "metadata": {},
   "source": [
    "<img style=\"float: center;\" src=\"Figures/example_grid.png\" width=\"60%\">"
   ]
  },
  {
   "cell_type": "markdown",
   "metadata": {},
   "source": [
    "The grid has the following parameters:"
   ]
  },
  {
   "cell_type": "markdown",
   "metadata": {},
   "source": [
    "<img style=\"float: center;\" src=\"Figures/bus.png\" width=\"60%\">"
   ]
  },
  {
   "cell_type": "markdown",
   "metadata": {},
   "source": [
    "## 2.1 Buses"
   ]
  },
  {
   "cell_type": "markdown",
   "metadata": {},
   "source": [
    "Buses are created and initialized with the function `pp.create_bus` https://pandapower.readthedocs.io/en/v2.10.1/elements/bus.html"
   ]
  },
  {
   "cell_type": "code",
   "execution_count": null,
   "metadata": {},
   "outputs": [],
   "source": [
    "#creating bus0\n",
    "pp.create_bus(net, name=\"Bus0\", vn_kv=230)\n",
    "\n",
    "#creating bus1\n",
    "pp.create_bus(net, name=\"Bus1\", vn_kv=230)\n",
    "\n",
    "#creating bus2\n",
    "pp.create_bus(net, name=\"Bus2\", vn_kv=230)\n",
    "\n",
    "#creating bus3\n",
    "pp.create_bus(net, name=\"Bus3\", vn_kv=230)\n",
    "\n",
    "#creating bus4\n",
    "pp.create_bus(net, name=\"Bus4\", vn_kv=25)"
   ]
  },
  {
   "cell_type": "code",
   "execution_count": null,
   "metadata": {
    "scrolled": true
   },
   "outputs": [],
   "source": [
    "net.bus #To check the buses we created we can use the attribute bus"
   ]
  },
  {
   "cell_type": "markdown",
   "metadata": {},
   "source": [
    "The slack bus in pandapower is called `external grid` (imposes Voltage and angle): https://pandapower.readthedocs.io/en/v2.10.1/elements/ext_grid.html"
   ]
  },
  {
   "cell_type": "code",
   "execution_count": null,
   "metadata": {},
   "outputs": [],
   "source": [
    "# Bus 0 Slack: \n",
    "pp.create_ext_grid(net, 0)"
   ]
  },
  {
   "cell_type": "markdown",
   "metadata": {},
   "source": [
    "## 2.2 Loads\n",
    "\n",
    "The `loads` element can be defined as follow: https://pandapower.readthedocs.io/en/v2.10.1/elements/load.html"
   ]
  },
  {
   "cell_type": "markdown",
   "metadata": {},
   "source": [
    "## Try it yourself! Insert active and reactive loads through the function:"
   ]
  },
  {
   "cell_type": "code",
   "execution_count": null,
   "metadata": {},
   "outputs": [],
   "source": [
    "# Bus 0 Load\n",
    "PF = 0.85\n",
    "p_mw = 50\n",
    "q_mvar= get_reactive(p_mw, PF)\n",
    "pp.create_load(net, 0, p_mw, q_mvar)\n",
    "\n",
    "# Bus 1 Load\n",
    "p_mw = 170\n",
    "q_mvar= get_reactive(p_mw, PF)\n",
    "pp.create_load(net, 1, p_mw, q_mvar)\n",
    "\n",
    "# Bus 2 Load\n",
    "p_mw = 200\n",
    "q_mvar= get_reactive(p_mw, PF)\n",
    "pp.create_load(net, 2, p_mw, q_mvar)\n",
    "\n",
    "# Bus 3 Load\n",
    "p_mw = 80\n",
    "q_mvar= get_reactive(p_mw, PF)\n",
    "pp.create_load(net, 3, p_mw, q_mvar)\n",
    "\n",
    "# Bus 4 Load\n",
    "p_mw = 80\n",
    "q_mvar= get_reactive(p_mw, PF)\n",
    "pp.create_load(net, 4, p_mw, q_mvar)\n",
    "\n",
    "net"
   ]
  },
  {
   "cell_type": "code",
   "execution_count": null,
   "metadata": {},
   "outputs": [],
   "source": [
    "net.load  #Similarly we can see the attribute load"
   ]
  },
  {
   "cell_type": "markdown",
   "metadata": {},
   "source": [
    "## 2.3 Generator\n",
    "\n",
    "We now have to add the generator `sgen` at Bus3: https://pandapower.readthedocs.io/en/v2.10.1/elements/sgen.html"
   ]
  },
  {
   "cell_type": "markdown",
   "metadata": {},
   "source": [
    "### Try it yourself: create a static generator! "
   ]
  },
  {
   "cell_type": "code",
   "execution_count": null,
   "metadata": {},
   "outputs": [],
   "source": [
    "# Bus 3 Generator\n",
    "pp.create_sgen(net, 3, 318, 0)\n",
    "\n",
    "# Bus 4 Generator\n",
    "pp.create_sgen(net, 4, 0, 0)"
   ]
  },
  {
   "cell_type": "markdown",
   "metadata": {},
   "source": [
    "## 2.4 Lines"
   ]
  },
  {
   "cell_type": "markdown",
   "metadata": {},
   "source": [
    "In order to create lines we need the following parameters in physical units per km  `create_line_from_parameters`: https://pandapower.readthedocs.io/en/v2.10.1/elements/line.html"
   ]
  },
  {
   "cell_type": "markdown",
   "metadata": {},
   "source": [
    "<img style=\"float: center;\" src=\"Figures/lines_input.png\" width=\"50%\">"
   ]
  },
  {
   "cell_type": "markdown",
   "metadata": {},
   "source": [
    "Lets assume the following parameters to create the lines:"
   ]
  },
  {
   "cell_type": "markdown",
   "metadata": {},
   "source": [
    "<img style=\"float: center;\" src=\"Figures/line.png\" width=\"50%\">"
   ]
  },
  {
   "cell_type": "code",
   "execution_count": null,
   "metadata": {},
   "outputs": [],
   "source": [
    "# The susceptance (b) is not needed\n",
    "\n",
    "r01 = 0.01008\n",
    "r02 = 0.00744\n",
    "r13 = 0.00744\n",
    "r23 = 0.01272\n",
    "\n",
    "x01 = 0.05040\n",
    "x02 = 0.03720\n",
    "x13 = 0.03720\n",
    "x23 = 0.06360"
   ]
  },
  {
   "cell_type": "markdown",
   "metadata": {},
   "source": [
    "Since data are in p.u. we have to translate the information into pandapower accepted format: ohm/km\n",
    "\n",
    "Remember that the base impedance is equal to:"
   ]
  },
  {
   "cell_type": "markdown",
   "metadata": {},
   "source": [
    "<img style=\"float: center;\" src=\"Figures/Base_impedance.png\" width=\"15%\"> "
   ]
  },
  {
   "cell_type": "markdown",
   "metadata": {},
   "source": [
    "Let's define a function to deal with p.u. values:"
   ]
  },
  {
   "cell_type": "code",
   "execution_count": null,
   "metadata": {},
   "outputs": [],
   "source": [
    "Z_b = 230**2/100\n",
    "def get_per_km_value(a_pu, L, Z_b):\n",
    "    value = a_pu*Z_b/L\n",
    "    return value"
   ]
  },
  {
   "cell_type": "markdown",
   "metadata": {},
   "source": [
    "If we suppose a medium lenght line L = 100km we cannot neglect capacitance C [nF], the longer the line the bigger is the capacitance.\n",
    "\n",
    "In this case, lets assume C = 18,2 nF/km for all lines\n",
    "\n",
    "Lets also assume the maximum thermal current to be 0.960 kA"
   ]
  },
  {
   "cell_type": "code",
   "execution_count": null,
   "metadata": {},
   "outputs": [],
   "source": [
    "L = 100\n",
    "c_nf_km = 18.2\n",
    "max_i_ka = 0.960"
   ]
  },
  {
   "cell_type": "markdown",
   "metadata": {},
   "source": [
    "Now, lets translate the values in p.u into ohm/km with the function we created before:"
   ]
  },
  {
   "cell_type": "code",
   "execution_count": null,
   "metadata": {},
   "outputs": [],
   "source": [
    "r01_km = get_per_km_value(r01,L,Z_b)\n",
    "r02_km = get_per_km_value(r02,L,Z_b)\n",
    "r13_km = get_per_km_value(r13,L,Z_b)\n",
    "r23_km = get_per_km_value(r23,L,Z_b)\n",
    "\n",
    "x01_km = get_per_km_value(x01,L,Z_b)\n",
    "x02_km = get_per_km_value(x02,L,Z_b)\n",
    "x13_km = get_per_km_value(x13,L,Z_b)\n",
    "x23_km = get_per_km_value(x23,L,Z_b)"
   ]
  },
  {
   "cell_type": "markdown",
   "metadata": {},
   "source": [
    "Finally, let'create lines from parameters calculated:"
   ]
  },
  {
   "cell_type": "code",
   "execution_count": null,
   "metadata": {},
   "outputs": [],
   "source": [
    "pp.create_line_from_parameters(net, from_bus = 0, to_bus = 1, length_km = L, r_ohm_per_km = r01_km, x_ohm_per_km = x01_km, c_nf_per_km = c_nf_km , max_i_ka = max_i_ka, name='01')\n",
    "pp.create_line_from_parameters(net, from_bus = 0, to_bus = 2, length_km = L, r_ohm_per_km = r02_km, x_ohm_per_km = x02_km, c_nf_per_km = c_nf_km , max_i_ka = max_i_ka, name='02')\n",
    "pp.create_line_from_parameters(net, from_bus = 1, to_bus = 3, length_km = L, r_ohm_per_km = r13_km, x_ohm_per_km = x13_km, c_nf_per_km = c_nf_km , max_i_ka = max_i_ka, name='13')\n",
    "pp.create_line_from_parameters(net, from_bus = 2, to_bus = 3, length_km = L, r_ohm_per_km = r23_km, x_ohm_per_km = x23_km, c_nf_per_km = c_nf_km , max_i_ka = max_i_ka, name='23')"
   ]
  },
  {
   "cell_type": "markdown",
   "metadata": {},
   "source": [
    "## 2.5 Transformer \n",
    "\n",
    "Similarly to lines we have to create the transformer based on the following parameters `create_transformer_from_parameters`: https://pandapower.readthedocs.io/en/v2.10.1/elements/trafo.html"
   ]
  },
  {
   "cell_type": "markdown",
   "metadata": {},
   "source": [
    "<img style=\"float: center;\" src=\"Figures/transformer_function.png\" width=\"50%\">                               "
   ]
  },
  {
   "cell_type": "markdown",
   "metadata": {},
   "source": [
    "Lets assume the following values (you can also check the standard library of pandapower in https://pandapower.readthedocs.io/en/v2.10.1/std_types.html):"
   ]
  },
  {
   "cell_type": "markdown",
   "metadata": {},
   "source": [
    "<img style=\"float: center;\" src=\"Figures/transformer_input.png\" width=\"80%\">  "
   ]
  },
  {
   "cell_type": "markdown",
   "metadata": {},
   "source": [
    "Now lets create the transformer between buses 1 and 4:"
   ]
  },
  {
   "cell_type": "code",
   "execution_count": null,
   "metadata": {},
   "outputs": [],
   "source": [
    "pp.create_transformer_from_parameters(net, hv_bus = 1, lv_bus = 4, sn_mva = 150, \n",
    "                                      vn_hv_kv = 230, vn_lv_kv = 25, vk_percent = 12, \n",
    "                                      vkr_percent = 0.26, pfe_kw = 55, i0_percent = 0.06, name = 'Trafo1')"
   ]
  },
  {
   "cell_type": "markdown",
   "metadata": {},
   "source": [
    "## 2.6 Summary and recap\n",
    "\n",
    "Let's look what elements are present in the network:"
   ]
  },
  {
   "cell_type": "code",
   "execution_count": null,
   "metadata": {},
   "outputs": [],
   "source": [
    "net"
   ]
  },
  {
   "cell_type": "markdown",
   "metadata": {},
   "source": [
    "Let's access different elements:"
   ]
  },
  {
   "cell_type": "code",
   "execution_count": null,
   "metadata": {},
   "outputs": [],
   "source": [
    "net.load"
   ]
  },
  {
   "cell_type": "markdown",
   "metadata": {},
   "source": [
    "### Try it yourself: What is the rated voltage of the 3rd bus?"
   ]
  },
  {
   "cell_type": "code",
   "execution_count": null,
   "metadata": {},
   "outputs": [],
   "source": [
    "net.bus.loc[net.bus['name']=='Bus3'].vn_kv"
   ]
  },
  {
   "cell_type": "markdown",
   "metadata": {},
   "source": [
    "### Try it yourself: what is the rated power of the Transformer?"
   ]
  },
  {
   "cell_type": "code",
   "execution_count": null,
   "metadata": {},
   "outputs": [],
   "source": [
    "net.trafo['sn_mva']"
   ]
  },
  {
   "cell_type": "markdown",
   "metadata": {},
   "source": [
    "## 2.7 Power flow"
   ]
  },
  {
   "cell_type": "markdown",
   "metadata": {},
   "source": [
    "To run the powerflow in pandapower we can simpy call the function `runpp()`: https://pandapower.readthedocs.io/en/v2.10.1/powerflow/run.html"
   ]
  },
  {
   "cell_type": "code",
   "execution_count": null,
   "metadata": {},
   "outputs": [],
   "source": [
    "pp.runpp(net)\n"
   ]
  },
  {
   "cell_type": "markdown",
   "metadata": {},
   "source": [
    "In pandapower, the power flow results are stored in attribute 'res_' followed by the element we want to access:"
   ]
  },
  {
   "cell_type": "code",
   "execution_count": null,
   "metadata": {},
   "outputs": [],
   "source": [
    "net.res_bus"
   ]
  },
  {
   "cell_type": "markdown",
   "metadata": {},
   "source": [
    "### Did you verify any problems in the network?"
   ]
  },
  {
   "cell_type": "code",
   "execution_count": null,
   "metadata": {},
   "outputs": [],
   "source": [
    "net.res_trafo"
   ]
  },
  {
   "cell_type": "markdown",
   "metadata": {},
   "source": [
    "### What is the efficiency of the grid?"
   ]
  },
  {
   "cell_type": "code",
   "execution_count": null,
   "metadata": {},
   "outputs": [],
   "source": [
    "# We can calculate the efficiency by dividing the total power demanded by the total power generated\n",
    "\n",
    "def get_eff(net):\n",
    "    efficiency = sum(net.res_load['p_mw'])/(sum(net.res_sgen['p_mw']) + sum(net.res_ext_grid['p_mw']))\n",
    "    return efficiency\n",
    "\n",
    "get_eff(net)"
   ]
  },
  {
   "cell_type": "markdown",
   "metadata": {},
   "source": [
    "Lets try to improve efficiency and solve the issues we encountered by increasing the reactive power in bus 4"
   ]
  },
  {
   "cell_type": "code",
   "execution_count": null,
   "metadata": {},
   "outputs": [],
   "source": [
    "net.sgen.loc[1, 'q_mvar'] = 0\n",
    "pp.runpp(net)\n",
    "get_eff(net)"
   ]
  },
  {
   "cell_type": "markdown",
   "metadata": {},
   "source": [
    "## 2.8 Plotting"
   ]
  },
  {
   "cell_type": "markdown",
   "metadata": {},
   "source": [
    "Do you know pandapower has its own plotting functions? It uses the plotly library to provide interactive graphs to show grid topology and power flow results. Try this out!"
   ]
  },
  {
   "cell_type": "code",
   "execution_count": null,
   "metadata": {},
   "outputs": [],
   "source": [
    "# Lets import the functions we need\n",
    "from pandapower.plotting import simple_plotly, pf_res_plotly\n",
    "\n",
    "# Lets set some coordinates\n",
    "net.bus_geodata.x = [-1, -1, 1, 1, -1]\n",
    "net.bus_geodata.y = [1, 0, 1, 0, -1]\n",
    "\n",
    "# Now we can plot the power flow results\n",
    "#simple_plotly(net)\n",
    "pf_res_plotly(net)"
   ]
  },
  {
   "cell_type": "markdown",
   "metadata": {},
   "source": [
    "You can also plot the powerflow results, and even plot it on a map."
   ]
  },
  {
   "cell_type": "code",
   "execution_count": null,
   "metadata": {
    "scrolled": true
   },
   "outputs": [],
   "source": [
    "\n",
    "pf_res_plotly(net, on_map=True)\n"
   ]
  },
  {
   "cell_type": "markdown",
   "metadata": {},
   "source": [
    "The grid was plotted on the middle of the ocean? Do you know why? The answer will be given in the next Lab!"
   ]
  },
  {
   "cell_type": "markdown",
   "metadata": {},
   "source": [
    "# 3. Exercises"
   ]
  },
  {
   "cell_type": "markdown",
   "metadata": {},
   "source": [
    "First, lets create a new copy of our network to use in the next exercises:"
   ]
  },
  {
   "cell_type": "code",
   "execution_count": null,
   "metadata": {},
   "outputs": [],
   "source": [
    "net2 = pp.pandapowerNet(copy.deepcopy(net))"
   ]
  },
  {
   "cell_type": "markdown",
   "metadata": {},
   "source": [
    "## 3.1 Exercise 1"
   ]
  },
  {
   "cell_type": "markdown",
   "metadata": {},
   "source": [
    "How much power do we need to inject un bus 4 so that the voltage is between a valid range (+/- 10%)? Add increments of 10 MVAr and save it on a dataframe comparing with the bus 4 voltage.\n",
    "\n",
    "Tip: Remember to reset the values of the generator!"
   ]
  },
  {
   "cell_type": "code",
   "execution_count": null,
   "metadata": {},
   "outputs": [],
   "source": [
    "# first create the solution dataframe\n",
    "solution = pd.DataFrame(columns = [? , ?])\n",
    "\n",
    "# reset values of the generator\n",
    "net2.sgen.? = 0\n",
    "pp.runpp(net2)\n",
    "while net2.res_bus.loc[?] < 0.9:\n",
    "    net2.sgen.loc[1, 'q_mvar'] = ? + 10  # increment of 10 MVAr\n",
    "    pp.runpp(?)\n",
    "    values = np.array([(net2.sgen.loc[?], net2.res_bus.loc[?] )])\n",
    "    new_line = pd.DataFrame(data=values, columns=solution.columns)\n",
    "    solution = pd.concat([?, ?], ignore_index=True)"
   ]
  },
  {
   "cell_type": "code",
   "execution_count": null,
   "metadata": {},
   "outputs": [],
   "source": [
    "print(solution)"
   ]
  },
  {
   "cell_type": "markdown",
   "metadata": {},
   "source": [
    "##  3.2 Exercise 2"
   ]
  },
  {
   "cell_type": "markdown",
   "metadata": {},
   "source": [
    "First, create a dataframe of normalized profiles (between 0 and 1) for load and generation for 6 hours. \n",
    "\n",
    "Use the following numbers:"
   ]
  },
  {
   "cell_type": "markdown",
   "metadata": {},
   "source": [
    "<img style=\"float: center;\" src=\"Figures/profiles.png\" width=\"80%\">"
   ]
  },
  {
   "cell_type": "code",
   "execution_count": null,
   "metadata": {},
   "outputs": [],
   "source": [
    "# create the dataframe with the index values of the hours and the two columns\n",
    "profiles = pd.DataFrame(index = ?, columns = ?)\n",
    "\n",
    "# add the p.u. values to the column of the loads and generation. You can simply pass a list []\n",
    "profiles[?] = ? \n",
    "profiles[?] = ?"
   ]
  },
  {
   "cell_type": "code",
   "execution_count": null,
   "metadata": {},
   "outputs": [],
   "source": [
    "print(profiles)"
   ]
  },
  {
   "cell_type": "markdown",
   "metadata": {},
   "source": [
    "Now create a dataframe to store the power flow results. We want to check each bus voltage and transformer loading for each of the profiles we created before."
   ]
  },
  {
   "cell_type": "code",
   "execution_count": null,
   "metadata": {},
   "outputs": [],
   "source": [
    "results = pd.DataFrame(index = profiles.index, \n",
    "                       columns = ['Bus0_vn', 'Bus1_vn', 'Bus2_vn', 'Bus3_vn', 'Bus4_vn', 'Trafo_loading'])"
   ]
  },
  {
   "cell_type": "markdown",
   "metadata": {},
   "source": [
    "Now, create a function that updates the loads and generation by multiplying its values by the p.u. values in the profiles."
   ]
  },
  {
   "cell_type": "code",
   "execution_count": null,
   "metadata": {},
   "outputs": [],
   "source": [
    "# which parameters do we need? the network, the p.u. value of load and generator. \n",
    "\n",
    "def update_values(net, load_pu, gen_pu):\n",
    "    \n",
    "    # we can simply multiply all the elements of the column by the p.u. value\n",
    "    \n",
    "    net.load['p_mw'] = net.load['p_mw']*?\n",
    "    net.sgen['p_mw'] = ?\n",
    "    \n",
    "    return net"
   ]
  },
  {
   "cell_type": "markdown",
   "metadata": {},
   "source": [
    "## 3.3 Exercise 3"
   ]
  },
  {
   "cell_type": "markdown",
   "metadata": {},
   "source": [
    "Use all the knowledge we learn so far and create a script that iterates over the profiles created, updates the values, run the power flow and save the results. \n",
    "\n",
    "Tip 1: You can use the syntax of the `for` loop to iterate over the rows of the profiles dataframe.\n",
    "\n",
    "Tip 2: Use the function we just created to update the values of load and generation power.\n",
    "\n",
    "Tip 3: Remember to create a copy of the network and reload to the base values before each iteration!"
   ]
  },
  {
   "cell_type": "code",
   "execution_count": null,
   "metadata": {},
   "outputs": [],
   "source": [
    "for hour in profiles.index:\n",
    "    net3 = pp.pandapowerNet(copy.deepcopy(net))\n",
    "    load_pu =  profiles.loc[hour, ?]\n",
    "    gen_pu = profiles.loc[?, ?]\n",
    "    net3 = update_values(net3, ?, ?)\n",
    "     ???  # run the power flow again for net3\n",
    "    \n",
    "    # now we can store the values in our results dataframe\n",
    "    results.loc[hour, 'Bus0_vn'] = net3.res_bus.loc[0, 'vm_pu']\n",
    "    results.loc[hour, ?] = net3.res_bus.loc[?]\n",
    "    results.loc[?, ?] = ?\n",
    "    ?\n",
    "    ?\n",
    "    ?"
   ]
  },
  {
   "cell_type": "code",
   "execution_count": null,
   "metadata": {},
   "outputs": [],
   "source": [
    "print(results)"
   ]
  },
  {
   "cell_type": "markdown",
   "metadata": {},
   "source": [
    "#### In which hour is the transformer load the heaviest?"
   ]
  },
  {
   "cell_type": "code",
   "execution_count": null,
   "metadata": {
    "scrolled": true
   },
   "outputs": [],
   "source": [
    "results.loc[results['Trafo_loading'] == results.Trafo_loading.max()]"
   ]
  }
 ],
 "metadata": {
  "kernelspec": {
   "display_name": "Python 3 (ipykernel)",
   "language": "python",
   "name": "python3"
  },
  "language_info": {
   "codemirror_mode": {
    "name": "ipython",
    "version": 3
   },
   "file_extension": ".py",
   "mimetype": "text/x-python",
   "name": "python",
   "nbconvert_exporter": "python",
   "pygments_lexer": "ipython3",
   "version": "3.11.4"
  }
 },
 "nbformat": 4,
 "nbformat_minor": 4
}
