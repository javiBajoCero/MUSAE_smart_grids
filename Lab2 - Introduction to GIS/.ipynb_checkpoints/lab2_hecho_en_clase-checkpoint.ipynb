{
 "cells": [
  {
   "cell_type": "code",
   "execution_count": 1,
   "id": "91291588",
   "metadata": {},
   "outputs": [],
   "source": [
    "import pandapower as pp\n",
    "from pandapower.plotting import *"
   ]
  },
  {
   "cell_type": "code",
   "execution_count": 2,
   "id": "06c5d917",
   "metadata": {},
   "outputs": [
    {
     "data": {
      "text/plain": [
       "This pandapower network is empty"
      ]
     },
     "execution_count": 2,
     "metadata": {},
     "output_type": "execute_result"
    }
   ],
   "source": [
    "net=pp.create_empty_network()\n",
    "net"
   ]
  },
  {
   "cell_type": "code",
   "execution_count": 3,
   "id": "090c5191",
   "metadata": {},
   "outputs": [
    {
     "data": {
      "text/plain": [
       "This pandapower network includes the following parameter tables:\n",
       "   - bus (14 element)\n",
       "   - bus_geodata (14 element)"
      ]
     },
     "execution_count": 3,
     "metadata": {},
     "output_type": "execute_result"
    }
   ],
   "source": [
    "pp.create_bus(net, name=\"Terrasa\", vn_kv=110, geodata=(2.01787, 41.56681))\n",
    "pp.create_bus(net, name=\"Manresa\", vn_kv=110, geodata=(1.81685, 41.72396))\n",
    "pp.create_bus(net, name=\"Tarrega\", vn_kv=110, geodata=(1.13954, 41.64687))\n",
    "pp.create_bus(net, name=\"Montblanc\", vn_kv=110, geodata=(1.16178, 41.37478))\n",
    "pp.create_bus(net, name=\"Vandellos\", vn_kv=110, geodata=(0.87562, 40.95624))\n",
    "pp.create_bus(net, name=\"Lleida\", vn_kv=110, geodata=(0.61613, 41.61538))\n",
    "pp.create_bus(net, name=\"Igualada\", vn_kv=110, geodata=(1.61912, 41.58074))\n",
    "pp.create_bus(net, name=\"El Perellos\", vn_kv=110, geodata=(0.71262, 40.87541))\n",
    "pp.create_bus(net, name=\"Agramunt\", vn_kv=110, geodata=(1.08664, 41.79154))\n",
    "pp.create_bus(net, name=\"Valls\", vn_kv=110, geodata=(1.24764, 41.28434))\n",
    "\n",
    "\n",
    "pp.create_bus(net, name=\"Manresa_LV\", vn_kv=20, geodata=(1.81210, 41.71518))\n",
    "pp.create_bus(net, name=\"Tarrega_LV\", vn_kv=20, geodata=(1.15177, 41.64157))\n",
    "pp.create_bus(net, name=\"Montblanc_LV\", vn_kv=20, geodata=(1.15398, 41.37473))\n",
    "pp.create_bus(net, name=\"Lleida_LV\", vn_kv=20, geodata=(0.61427, 41.61262))\n",
    "\n",
    "net"
   ]
  },
  {
   "cell_type": "code",
   "execution_count": 4,
   "id": "71c87182",
   "metadata": {},
   "outputs": [
    {
     "data": {
      "text/plain": [
       "This pandapower network includes the following parameter tables:\n",
       "   - bus (14 element)\n",
       "   - ext_grid (1 elements)\n",
       "   - bus_geodata (14 element)"
      ]
     },
     "execution_count": 4,
     "metadata": {},
     "output_type": "execute_result"
    }
   ],
   "source": [
    "pp.create_ext_grid(net,0)\n",
    "pp.create_std_type(net,{\"r_ohm_per_km\":0.062,\"x_ohm_per_km\":0.404,\"c_nf_per_km\":8.935,\"max_i_ka\":0.9},name=\"single\",element=\"line\")\n",
    "pp.create_std_type(net,{\"r_ohm_per_km\":0.031,\"x_ohm_per_km\":0.188,\"c_nf_per_km\":19.26,\"max_i_ka\":1.8},name=\"double\",element=\"line\")\n",
    "\n",
    "net"
   ]
  },
  {
   "cell_type": "code",
   "execution_count": 5,
   "id": "163d1dee",
   "metadata": {},
   "outputs": [
    {
     "data": {
      "text/plain": [
       "This pandapower network includes the following parameter tables:\n",
       "   - bus (14 element)\n",
       "   - ext_grid (1 elements)\n",
       "   - bus_geodata (14 element)"
      ]
     },
     "execution_count": 5,
     "metadata": {},
     "output_type": "execute_result"
    }
   ],
   "source": [
    "pp.create_std_type(net,{\"sn_mva\":100,\n",
    "                        \"vn_hv_kv\":110,\n",
    "                        \"vn_lv_kv\":20,\n",
    "                        \"vk_percent\":18,\n",
    "                        \"vkr_percent\":0.38,\n",
    "                        \"pfe_kw\":22,\n",
    "                        \"i0_percent\":0.04,\n",
    "                        \"shift_degree\":150,\n",
    "                        \"vector_group\": 'YNdS',\n",
    "                        \"tap_side\":\"hv\",\n",
    "                        \"tap_neutral\":0,\n",
    "                        \"tap_min\":-9,\n",
    "                        \"tap_max\":9,\n",
    "                        \"tap_step_degree\":0,\n",
    "                        \"tap_step_percent\":2.5,\n",
    "                        \"tap_phase_shifter\":False}, name='100MVA',element= \"trafo\")\n",
    "net"
   ]
  },
  {
   "cell_type": "code",
   "execution_count": 6,
   "id": "e30527ff",
   "metadata": {},
   "outputs": [
    {
     "data": {
      "text/plain": [
       "This pandapower network includes the following parameter tables:\n",
       "   - bus (14 element)\n",
       "   - ext_grid (1 elements)\n",
       "   - bus_geodata (14 element)"
      ]
     },
     "execution_count": 6,
     "metadata": {},
     "output_type": "execute_result"
    }
   ],
   "source": [
    "pp.create_std_type(net,{\"sn_mva\":200,\n",
    "                        \"vn_hv_kv\":110,\n",
    "                        \"vn_lv_kv\":20,\n",
    "                        \"vk_percent\":12.2,\n",
    "                        \"vkr_percent\":0.26,\n",
    "                        \"pfe_kw\":65,\n",
    "                        \"i0_percent\":0.06,\n",
    "                        \"shift_degree\":0,\n",
    "                        \"vector_group\": 'Yy0',\n",
    "                        \"tap_side\":\"hv\",\n",
    "                        \"tap_neutral\":0,\n",
    "                        \"tap_min\":-9,\n",
    "                        \"tap_max\":9,\n",
    "                        \"tap_step_degree\":0,\n",
    "                        \"tap_step_percent\":2.5,\n",
    "                        \"tap_phase_shifter\":False}, name='200MVA',element= \"trafo\")\n",
    "net"
   ]
  },
  {
   "cell_type": "code",
   "execution_count": 7,
   "id": "1d4debd4",
   "metadata": {},
   "outputs": [
    {
     "data": {
      "text/plain": [
       "This pandapower network includes the following parameter tables:\n",
       "   - bus (14 element)\n",
       "   - ext_grid (1 elements)\n",
       "   - line (6 element)\n",
       "   - bus_geodata (14 element)"
      ]
     },
     "execution_count": 7,
     "metadata": {},
     "output_type": "execute_result"
    }
   ],
   "source": [
    "#creating lines\n",
    "pp.create_line(net,0,1,23,'single','Line0')\n",
    "pp.create_line(net,1,2,58,'double','Line1')\n",
    "pp.create_line(net,2,3,30,'double','Line2')\n",
    "pp.create_line(net,3,4,52,'double','Line3')\n",
    "pp.create_line(net,2,5,44,'single','Line4')\n",
    "pp.create_line(net,2,6,40,'single','Line5')\n",
    "net"
   ]
  },
  {
   "cell_type": "code",
   "execution_count": 8,
   "id": "bafabc69",
   "metadata": {},
   "outputs": [
    {
     "data": {
      "text/plain": [
       "This pandapower network includes the following parameter tables:\n",
       "   - bus (14 element)\n",
       "   - ext_grid (1 elements)\n",
       "   - line (6 element)\n",
       "   - trafo (4 element)\n",
       "   - bus_geodata (14 element)"
      ]
     },
     "execution_count": 8,
     "metadata": {},
     "output_type": "execute_result"
    }
   ],
   "source": [
    "#creating transformers\n",
    "pp.create_transformer(net,1,10,'100MVA')\n",
    "pp.create_transformer(net,2,11,'200MVA')\n",
    "pp.create_transformer(net,3,12,'100MVA')\n",
    "pp.create_transformer(net,5,13,'100MVA')\n",
    "net"
   ]
  },
  {
   "cell_type": "code",
   "execution_count": 9,
   "id": "66726cd4",
   "metadata": {},
   "outputs": [
    {
     "data": {
      "text/plain": [
       "This pandapower network includes the following parameter tables:\n",
       "   - bus (14 element)\n",
       "   - load (4 element)\n",
       "   - ext_grid (1 elements)\n",
       "   - line (6 element)\n",
       "   - trafo (4 element)\n",
       "   - bus_geodata (14 element)"
      ]
     },
     "execution_count": 9,
     "metadata": {},
     "output_type": "execute_result"
    }
   ],
   "source": [
    "#creating loads\n",
    "pp.create_load(net,10,70,0,name='Load_manresa')\n",
    "pp.create_load(net,11,100,0,name='Load_tarrega')\n",
    "pp.create_load(net,12,70,0,name='Load_montblanc')\n",
    "pp.create_load(net,13,70,0,name='Load_lleida')\n",
    "net"
   ]
  },
  {
   "cell_type": "code",
   "execution_count": 10,
   "id": "ad2d3247",
   "metadata": {},
   "outputs": [
    {
     "data": {
      "text/plain": [
       "This pandapower network includes the following parameter tables:\n",
       "   - bus (14 element)\n",
       "   - load (4 element)\n",
       "   - gen (1 elements)\n",
       "   - ext_grid (1 elements)\n",
       "   - line (6 element)\n",
       "   - trafo (4 element)\n",
       "   - bus_geodata (14 element)"
      ]
     },
     "execution_count": 10,
     "metadata": {},
     "output_type": "execute_result"
    }
   ],
   "source": [
    "#create generator\n",
    "pp.create_gen(net,4,200)\n",
    "net"
   ]
  },
  {
   "cell_type": "code",
   "execution_count": 11,
   "id": "cc3f4fb0",
   "metadata": {},
   "outputs": [
    {
     "name": "stderr",
     "output_type": "stream",
     "text": [
      "C:\\Users\\citcea\\anaconda3\\Lib\\site-packages\\pandapower\\file_io.py:99: FutureWarning: save is not part of the public API, usage can give unexpected results and will be removed in a future version\n",
      "  writer.save()\n",
      "numba cannot be imported and numba functions are disabled.\n",
      "Probably the execution is slow.\n",
      "Please install numba to gain a massive speedup.\n",
      "(or if you prefer slow execution, set the flag numba=False to avoid this warning!)\n",
      "\n"
     ]
    }
   ],
   "source": [
    "pp.to_excel(net, 'exported_real_net_to_excel.xlsx') #to export the net to an excel file\n",
    "pp.runpp(net)\n",
    "#pp.diagnostic(net) #diagnose shit\n",
    "#pp.from_excel('exported_net_to_excel.xlsx') #to import the net from an excel file"
   ]
  },
  {
   "cell_type": "code",
   "execution_count": null,
   "id": "0f53a2d7",
   "metadata": {},
   "outputs": [],
   "source": [
    "simple_plotly(net,on_map=True,projection='epsg:4326');\n",
    "pf_res_plotly(net,aspectratio=(1.25,1), figsize=1.5, on_map=True);\n"
   ]
  },
  {
   "cell_type": "code",
   "execution_count": null,
   "id": "20b55290",
   "metadata": {},
   "outputs": [],
   "source": [
    "net.bus"
   ]
  },
  {
   "cell_type": "code",
   "execution_count": null,
   "id": "8f58d8f7",
   "metadata": {},
   "outputs": [],
   "source": [
    "net.res_bus"
   ]
  }
 ],
 "metadata": {
  "kernelspec": {
   "display_name": "Python 3 (ipykernel)",
   "language": "python",
   "name": "python3"
  },
  "language_info": {
   "codemirror_mode": {
    "name": "ipython",
    "version": 3
   },
   "file_extension": ".py",
   "mimetype": "text/x-python",
   "name": "python",
   "nbconvert_exporter": "python",
   "pygments_lexer": "ipython3",
   "version": "3.11.4"
  }
 },
 "nbformat": 4,
 "nbformat_minor": 5
}
